{
 "cells": [
  {
   "cell_type": "code",
   "execution_count": 1,
   "id": "c97b61db-90c7-421f-95ab-a64f481f7623",
   "metadata": {},
   "outputs": [
    {
     "data": {
      "text/plain": [
       "\u001b[36ma\u001b[39m: \u001b[32mArray\u001b[39m[\u001b[32mInt\u001b[39m] = \u001b[33mArray\u001b[39m(\u001b[32m1\u001b[39m, \u001b[32m2\u001b[39m, \u001b[32m3\u001b[39m)"
      ]
     },
     "execution_count": 1,
     "metadata": {},
     "output_type": "execute_result"
    }
   ],
   "source": [
    "val a: Array[Int] = Array(1,2,3) "
   ]
  },
  {
   "cell_type": "code",
   "execution_count": 1,
   "id": "2e816411-0572-41b1-82e7-7e8788cdefba",
   "metadata": {},
   "outputs": [
    {
     "name": "stderr",
     "output_type": "stream",
     "text": [
      "cmd1.sc:1: reassignment to val\n",
      "val res1 = a = Array(2,3,4)\n",
      "             ^Compilation Failed"
     ]
    },
    {
     "ename": "",
     "evalue": "",
     "output_type": "error",
     "traceback": [
      "Compilation Failed"
     ]
    }
   ],
   "source": [
    "a = Array(2,3,4)"
   ]
  },
  {
   "cell_type": "code",
   "execution_count": 2,
   "id": "cd2ece7b-e002-4fcf-9ffa-929b5e7b4b17",
   "metadata": {},
   "outputs": [],
   "source": [
    "a(0) = 4"
   ]
  },
  {
   "cell_type": "code",
   "execution_count": 4,
   "id": "647c794d-214f-4536-91de-89d490ebcb23",
   "metadata": {},
   "outputs": [
    {
     "name": "stdout",
     "output_type": "stream",
     "text": [
      "4, 2, 3"
     ]
    }
   ],
   "source": [
    "print(a mkString \", \")"
   ]
  },
  {
   "cell_type": "code",
   "execution_count": null,
   "id": "f6712b87-8173-428b-aba3-7253f39c10b0",
   "metadata": {},
   "outputs": [],
   "source": []
  }
 ],
 "metadata": {
  "kernelspec": {
   "display_name": "Scala",
   "language": "scala",
   "name": "scala"
  },
  "language_info": {
   "codemirror_mode": "text/x-scala",
   "file_extension": ".sc",
   "mimetype": "text/x-scala",
   "name": "scala",
   "nbconvert_exporter": "script",
   "version": "2.12.12"
  }
 },
 "nbformat": 4,
 "nbformat_minor": 5
}
